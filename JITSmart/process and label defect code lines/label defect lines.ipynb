{
 "cells": [
  {
   "cell_type": "code",
   "execution_count": 2,
   "outputs": [],
   "source": [
    "import pickle\n",
    "import numpy as np\n",
    "import pandas as pd\n",
    "from tqdm import tqdm\n",
    "import re"
   ],
   "metadata": {
    "collapsed": false,
    "pycharm": {
     "name": "#%%\n"
    }
   }
  },
  {
   "cell_type": "code",
   "execution_count": 2,
   "metadata": {
    "collapsed": true
   },
   "outputs": [],
   "source": [
    "changes_train_pkl = pd.read_pickle('../../data/jitfine/changes_train.pkl')"
   ]
  },
  {
   "cell_type": "code",
   "execution_count": 3,
   "outputs": [
    {
     "name": "stdout",
     "output_type": "stream",
     "text": [
      "<class 'list'> 4\n"
     ]
    }
   ],
   "source": [
    "print(type(changes_train_pkl), len(changes_train_pkl))"
   ],
   "metadata": {
    "collapsed": false,
    "pycharm": {
     "name": "#%%\n"
    }
   }
  },
  {
   "cell_type": "code",
   "execution_count": 4,
   "outputs": [
    {
     "name": "stdout",
     "output_type": "stream",
     "text": [
      "数据量大小： 16374 16374 16374 16374\n"
     ]
    }
   ],
   "source": [
    "print('数据量大小：', len(changes_train_pkl[0]),len(changes_train_pkl[1]),\n",
    "      len(changes_train_pkl[2]),len(changes_train_pkl[3]))"
   ],
   "metadata": {
    "collapsed": false,
    "pycharm": {
     "name": "#%%\n"
    }
   }
  },
  {
   "cell_type": "code",
   "execution_count": 5,
   "outputs": [
    {
     "name": "stdout",
     "output_type": "stream",
     "text": [
      "这是commit_hash\n",
      "['2a5a07fcb1a24fded957d260f9a9df988323db19', '4642f1df280891c2238e74935239096fba508ba0', '42ffb77e341635adbf1f2b71727cb586fe2ff672', 'b92f81e2f692f52943c49c595d087d3e3c6c622d', '36a1784d52126394afc5963d8139f8933bdd60c9']\n"
     ]
    }
   ],
   "source": [
    "print('这是commit_hash')\n",
    "print(changes_train_pkl[0][:5])"
   ],
   "metadata": {
    "collapsed": false,
    "pycharm": {
     "name": "#%%\n"
    }
   }
  },
  {
   "cell_type": "code",
   "execution_count": 6,
   "outputs": [],
   "source": [],
   "metadata": {
    "collapsed": false,
    "pycharm": {
     "name": "#%%\n"
    }
   }
  },
  {
   "cell_type": "code",
   "execution_count": 6,
   "outputs": [],
   "source": [],
   "metadata": {
    "collapsed": false,
    "pycharm": {
     "name": "#%%\n"
    }
   }
  },
  {
   "cell_type": "code",
   "execution_count": 6,
   "outputs": [
    {
     "name": "stdout",
     "output_type": "stream",
     "text": [
      "这是is_buggy_commit\n",
      "[1.0, 1.0, 1.0, 1.0, 1.0]\n"
     ]
    }
   ],
   "source": [
    "print('这是is_buggy_commit')\n",
    "print(changes_train_pkl[1][:5])\n"
   ],
   "metadata": {
    "collapsed": false,
    "pycharm": {
     "name": "#%%0\n"
    }
   }
  },
  {
   "cell_type": "code",
   "execution_count": 7,
   "outputs": [
    {
     "name": "stdout",
     "output_type": "stream",
     "text": [
      "这是commit_message\n",
      "['publish task now uses srcivypattern for ivy files finding for delivery', 'added ivy task : cachefileset', 'add cachefileset task', 'new useRemoteConfig on conf tag in ivyconf . xml , tells to use remote configuration file for repo config', 'new changing attribute on dependency']\n"
     ]
    }
   ],
   "source": [
    "print('这是commit_message')\n",
    "print(changes_train_pkl[2][:5])\n"
   ],
   "metadata": {
    "collapsed": false,
    "pycharm": {
     "name": "#%%\n"
    }
   }
  },
  {
   "cell_type": "code",
   "execution_count": 26,
   "outputs": [
    {
     "name": "stdout",
     "output_type": "stream",
     "text": [
      "这是 added_code 和 removed_code\n"
     ]
    },
    {
     "data": {
      "text/plain": "{'added_code': {'Artifact [ ] artifacts = parser . getArtifacts ( new ModuleId ( organisation , module ) , confs [ i ] , cache ) ;',\n  'Artifact artifact = ( Artifact ) iter . next ( ) ;',\n  'Collection all = new LinkedHashSet ( ) ;',\n  'FileSet fileset = new FileSet ( ) ;',\n  'Ivy ivy = getIvyInstance ( ) ;',\n  'NameEntry ne = fileset . createInclude ( ) ;',\n  'String [ ] confs = splitConfs ( conf ) ;',\n  'XmlReportParser parser = new XmlReportParser ( ) ;',\n  'all . addAll ( Arrays . asList ( artifacts ) ) ;',\n  'cache = cache ;',\n  'cache = ivy . getDefaultCache ( ) ;',\n  'conf = conf ;',\n  'conf = getProperty ( conf , ivy , \"ivy . resolved . configurations\" ) ;',\n  'conf = getProperty ( ivy , \"ivy . resolved . configurations\" ) ;',\n  'ensureResolved ( isHaltonfailure ( ) ) ;',\n  'fileset . setDir ( getCache ( ) ) ;',\n  'fileset . setProject ( getProject ( ) ) ;',\n  'for ( Iterator iter = all . iterator ( ) ; iter . hasNext ( ) ; ) {',\n  'for ( int i = 0 ; i < confs . length ; i + + ) {',\n  'getProject ( ) . addReference ( setid , fileset ) ;',\n  'haltOnFailure = haltOnFailure ;',\n  'if ( accept ( artifact ) ) {',\n  'if ( cache = = null ) {',\n  'if ( conf . equals ( \" * \" ) ) {',\n  'if ( organisation = = null | | module = = null ) {',\n  'if ( setid = = null ) {',\n  'import fr . jayasoft . ivy . Artifact ;',\n  'import fr . jayasoft . ivy . Ivy ;',\n  'import fr . jayasoft . ivy . ModuleId ;',\n  'import fr . jayasoft . ivy . xml . XmlReportParser ;',\n  'import java . io . File ;',\n  'import java . util . Arrays ;',\n  'import java . util . Collection ;',\n  'import java . util . Iterator ;',\n  'import java . util . LinkedHashSet ;',\n  'import org . apache . tools . ant . BuildException ;',\n  'import org . apache . tools . ant . types . FileSet ;',\n  'import org . apache . tools . ant . types . PatternSet . NameEntry ;',\n  'module = getProperty ( module , ivy , \"ivy . module\" ) ;',\n  'module = module ;',\n  'ne . setName ( ivy . getArchivePathInCache ( artifact ) ) ;',\n  'organisation = getProperty ( organisation , ivy , \"ivy . organisation\" ) ;',\n  'organisation = organisation ;',\n  'package fr . jayasoft . ivy . ant ;',\n  'private File cache ;',\n  'private String conf ;',\n  'private String module ;',\n  'private String organisation ;',\n  'private String setid ;',\n  'private String type ;',\n  'private boolean accept ( Artifact artifact ) {',\n  'private boolean haltOnFailure = true ;',\n  'public File getCache ( ) {',\n  'public String getConf ( ) {',\n  'public String getModule ( ) {',\n  'public String getOrganisation ( ) {',\n  'public String getSetid ( ) {',\n  'public String getType ( ) {',\n  'public boolean isHaltonfailure ( ) {',\n  'public class IvyCacheFileset extends IvyTask {',\n  'public void execute ( ) throws BuildException {',\n  'public void setCache ( File cache ) {',\n  'public void setConf ( String conf ) {',\n  'public void setHaltonfailure ( boolean haltOnFailure ) {',\n  'public void setModule ( String module ) {',\n  'public void setOrganisation ( String organisation ) {',\n  'public void setSetid ( String id ) {',\n  'public void setType ( String type ) {',\n  'return cache ;',\n  'return conf ;',\n  'return haltOnFailure ;',\n  'return module ;',\n  'return organisation ;',\n  'return setid ;',\n  'return type ;',\n  'return type = = null | | type . equals ( artifact . getType ( ) ) ;',\n  'setid = id ;',\n  'throw new BuildException ( \"impossible to build ivy cache fileset : \" + ex . getMessage ( ) , ex ) ;',\n  'throw new BuildException ( \"no module id provided for ivy path : either call resolve , give paramaters to ivy : retrieve , or provide ivy . module and ivy . organisation properties\" ) ;',\n  'throw new BuildException ( \"setid is required in ivy cachefileset\" ) ;',\n  'try {',\n  'type = type ;',\n  '}',\n  '} catch ( Exception ex ) {'},\n 'removed_code': set()}"
     },
     "execution_count": 26,
     "metadata": {},
     "output_type": "execute_result"
    }
   ],
   "source": [
    "print('这是 added_code 和 removed_code')\n",
    "info = changes_train_pkl[3][2]\n",
    "info"
   ],
   "metadata": {
    "collapsed": false,
    "pycharm": {
     "name": "#%%\n"
    }
   }
  },
  {
   "cell_type": "code",
   "execution_count": 27,
   "outputs": [
    {
     "name": "stdout",
     "output_type": "stream",
     "text": [
      "<class 'set'>\n"
     ]
    },
    {
     "data": {
      "text/plain": "84"
     },
     "execution_count": 27,
     "metadata": {},
     "output_type": "execute_result"
    }
   ],
   "source": [
    "add_code_lines = info['added_code']\n",
    "delete_code_lines = info['removed_code']\n",
    "print(type(add_code_lines))\n",
    "len(add_code_lines)+len(delete_code_lines)"
   ],
   "metadata": {
    "collapsed": false,
    "pycharm": {
     "name": "#%%\n"
    }
   }
  },
  {
   "cell_type": "code",
   "execution_count": 29,
   "outputs": [],
   "source": [
    "# add_code_lines\n",
    "\n",
    "\n",
    "\n",
    "\n"
   ],
   "metadata": {
    "collapsed": false,
    "pycharm": {
     "name": "#%%\n"
    }
   }
  },
  {
   "cell_type": "code",
   "execution_count": 3,
   "outputs": [
    {
     "name": "stdout",
     "output_type": "stream",
     "text": [
      "<class 'pandas.core.frame.DataFrame'>\n",
      "RangeIndex: 117818 entries, 0 to 117817\n",
      "Data columns (total 7 columns):\n",
      " #   Column       Non-Null Count   Dtype \n",
      "---  ------       --------------   ----- \n",
      " 0   project      117818 non-null  object\n",
      " 1   file         117818 non-null  object\n",
      " 2   change type  117818 non-null  object\n",
      " 3   commit hash  117818 non-null  object\n",
      " 4   idx          117818 non-null  int64 \n",
      " 5   code line    117818 non-null  object\n",
      " 6   label        117818 non-null  int64 \n",
      "dtypes: int64(2), object(5)\n",
      "memory usage: 6.3+ MB\n"
     ]
    },
    {
     "data": {
      "text/plain": "   project                                          file change type  \\\n0  ant-ivy  src/java/fr/jayasoft/ivy/ant/IvyPublish.java       added   \n1  ant-ivy  src/java/fr/jayasoft/ivy/ant/IvyPublish.java       added   \n2  ant-ivy  src/java/fr/jayasoft/ivy/ant/IvyPublish.java       added   \n\n                                commit hash  idx  \\\n0  2a5a07fcb1a24fded957d260f9a9df988323db19    0   \n1  2a5a07fcb1a24fded957d260f9a9df988323db19    1   \n2  2a5a07fcb1a24fded957d260f9a9df988323db19    2   \n\n                                           code line  label  \n0  File ivyFile = new File(_cache, IvyPatternHelp...      1  \n1                                                  }      0  \n2                   _srcivypattern = destivypattern;      0  ",
      "text/html": "<div>\n<style scoped>\n    .dataframe tbody tr th:only-of-type {\n        vertical-align: middle;\n    }\n\n    .dataframe tbody tr th {\n        vertical-align: top;\n    }\n\n    .dataframe thead th {\n        text-align: right;\n    }\n</style>\n<table border=\"1\" class=\"dataframe\">\n  <thead>\n    <tr style=\"text-align: right;\">\n      <th></th>\n      <th>project</th>\n      <th>file</th>\n      <th>change type</th>\n      <th>commit hash</th>\n      <th>idx</th>\n      <th>code line</th>\n      <th>label</th>\n    </tr>\n  </thead>\n  <tbody>\n    <tr>\n      <th>0</th>\n      <td>ant-ivy</td>\n      <td>src/java/fr/jayasoft/ivy/ant/IvyPublish.java</td>\n      <td>added</td>\n      <td>2a5a07fcb1a24fded957d260f9a9df988323db19</td>\n      <td>0</td>\n      <td>File ivyFile = new File(_cache, IvyPatternHelp...</td>\n      <td>1</td>\n    </tr>\n    <tr>\n      <th>1</th>\n      <td>ant-ivy</td>\n      <td>src/java/fr/jayasoft/ivy/ant/IvyPublish.java</td>\n      <td>added</td>\n      <td>2a5a07fcb1a24fded957d260f9a9df988323db19</td>\n      <td>1</td>\n      <td>}</td>\n      <td>0</td>\n    </tr>\n    <tr>\n      <th>2</th>\n      <td>ant-ivy</td>\n      <td>src/java/fr/jayasoft/ivy/ant/IvyPublish.java</td>\n      <td>added</td>\n      <td>2a5a07fcb1a24fded957d260f9a9df988323db19</td>\n      <td>2</td>\n      <td>_srcivypattern = destivypattern;</td>\n      <td>0</td>\n    </tr>\n  </tbody>\n</table>\n</div>"
     },
     "execution_count": 3,
     "metadata": {},
     "output_type": "execute_result"
    }
   ],
   "source": [
    "buggy_commit_lines_df = pd.read_pickle('./train_buggy_commit_lines_df.pkl')\n",
    "buggy_commit_lines_df.info()\n",
    "buggy_commit_lines_df.head(3)"
   ],
   "metadata": {
    "collapsed": false,
    "pycharm": {
     "name": "#%%\n"
    }
   }
  },
  {
   "cell_type": "code",
   "execution_count": null,
   "outputs": [],
   "source": [],
   "metadata": {
    "collapsed": false,
    "pycharm": {
     "name": "#%%\n"
    }
   }
  },
  {
   "cell_type": "code",
   "execution_count": null,
   "outputs": [],
   "source": [],
   "metadata": {
    "collapsed": false,
    "pycharm": {
     "name": "#%%\n"
    }
   }
  },
  {
   "cell_type": "code",
   "execution_count": null,
   "outputs": [],
   "source": [],
   "metadata": {
    "collapsed": false,
    "pycharm": {
     "name": "#%%\n"
    }
   }
  },
  {
   "cell_type": "code",
   "execution_count": null,
   "outputs": [],
   "source": [],
   "metadata": {
    "collapsed": false,
    "pycharm": {
     "name": "#%%\n"
    }
   }
  },
  {
   "cell_type": "code",
   "execution_count": 4,
   "outputs": [
    {
     "name": "stderr",
     "output_type": "stream",
     "text": [
      "100%|██████████| 117818/117818 [00:00<00:00, 132677.64it/s]\n"
     ]
    }
   ],
   "source": [
    "def remove_punctuation(line):\n",
    "    rule = re.compile(r\"[^a-zA-Z0-9\\u4e00-\\u9fa5]\")\n",
    "    line = rule.sub('',line)\n",
    "    return line\n",
    "\n",
    "for i in tqdm(range(len(buggy_commit_lines_df))):\n",
    "    x = buggy_commit_lines_df['code line'][i]\n",
    "    try:\n",
    "        remove_punctuation(x)\n",
    "    except TypeError:\n",
    "        print(x)"
   ],
   "metadata": {
    "collapsed": false,
    "pycharm": {
     "name": "#%%\n"
    }
   }
  },
  {
   "cell_type": "code",
   "execution_count": null,
   "outputs": [],
   "source": [
    "# commit_id = '2a5a07fcb1a24fded957d260f9a9df988323db19'\n",
    "commit_id = '42ffb77e341635adbf1f2b71727cb586fe2ff672'"
   ],
   "metadata": {
    "collapsed": false,
    "pycharm": {
     "name": "#%%\n"
    }
   }
  },
  {
   "cell_type": "code",
   "execution_count": 43,
   "outputs": [
    {
     "data": {
      "text/plain": "True"
     },
     "execution_count": 43,
     "metadata": {},
     "output_type": "execute_result"
    }
   ],
   "source": [
    "if commit_id in buggy_commit_lines_df['commit hash'].to_list():\n",
    "    commit_info_df = buggy_commit_lines_df[buggy_commit_lines_df['commit hash']==commit_id]\n",
    "    commit_info_df = commit_info_df.reset_index(drop=True)\n",
    "\n",
    "    import re\n",
    "    def remove_punctuation(line):\n",
    "        rule = re.compile(r\"[^a-zA-Z0-9\\u4e00-\\u9fa5]\")\n",
    "        line = rule.sub('',line)\n",
    "        return line\n",
    "\n",
    "\n",
    "    commit_info_df['code line'] = commit_info_df['code line'].apply(lambda x: remove_punctuation(x))\n",
    "\n",
    "    add_code_lines_dict = {remove_punctuation(line): line for line in add_code_lines}\n",
    "    delete_code_lines_dict = {remove_punctuation(line): line for line in delete_code_lines}\n",
    "\n",
    "\n",
    "    commit_info_df_added = commit_info_df[commit_info_df['change type']=='added']\n",
    "    commit_info_df_added  = commit_info_df_added.reset_index(drop=True)\n",
    "    add_code_lines = []\n",
    "    add_code_lines_labels = []\n",
    "    for i in range(len(commit_info_df_added)):\n",
    "        if commit_info_df_added['code line'][i] in add_code_lines_dict.keys():\n",
    "            add_code_lines.append(add_code_lines_dict[commit_info_df_added['code line'][i]])\n",
    "            add_code_lines_labels.append(commit_info_df_added['label'][i])\n",
    "\n",
    "        else:\n",
    "            print('added lines matching exists wrong')\n",
    "\n",
    "\n",
    "\n",
    "    commit_info_df_deleted = commit_info_df[commit_info_df['change type']=='deleted']\n",
    "    commit_info_df_deleted  = commit_info_df_deleted.reset_index(drop=True)\n",
    "    delete_code_lines = []\n",
    "    delete_code_lines_labels = []\n",
    "    for i in range(len(commit_info_df_deleted)):\n",
    "        if commit_info_df_deleted['code line'][i] in delete_code_lines_dict.keys():\n",
    "            delete_code_lines.append(delete_code_lines_dict[commit_info_df_deleted['code line'][i]])\n",
    "            delete_code_lines_labels.append(commit_info_df_deleted['label'][i])\n",
    "        else:\n",
    "            print('added lines matching exists wrong')\n",
    "else:\n",
    "    add_code_lines_labels = [0]*len(add_code_lines)\n",
    "    delete_code_lines_labels = [0]*len(delete_code_lines)"
   ],
   "metadata": {
    "collapsed": false,
    "pycharm": {
     "name": "#%%\n"
    }
   }
  },
  {
   "cell_type": "code",
   "execution_count": 48,
   "outputs": [],
   "source": [],
   "metadata": {
    "collapsed": false,
    "pycharm": {
     "name": "#%%\n"
    }
   }
  },
  {
   "cell_type": "code",
   "execution_count": 17,
   "outputs": [],
   "source": [],
   "metadata": {
    "collapsed": false,
    "pycharm": {
     "name": "#%%\n"
    }
   }
  },
  {
   "cell_type": "code",
   "execution_count": 17,
   "outputs": [],
   "source": [],
   "metadata": {
    "collapsed": false,
    "pycharm": {
     "name": "#%%\n"
    }
   }
  },
  {
   "cell_type": "code",
   "execution_count": 17,
   "outputs": [],
   "source": [],
   "metadata": {
    "collapsed": false,
    "pycharm": {
     "name": "#%%\n"
    }
   }
  },
  {
   "cell_type": "code",
   "execution_count": 17,
   "outputs": [],
   "source": [],
   "metadata": {
    "collapsed": false,
    "pycharm": {
     "name": "#%%\n"
    }
   }
  },
  {
   "cell_type": "code",
   "execution_count": 17,
   "outputs": [],
   "source": [],
   "metadata": {
    "collapsed": false,
    "pycharm": {
     "name": "#%%\n"
    }
   }
  },
  {
   "cell_type": "code",
   "execution_count": 17,
   "outputs": [],
   "source": [],
   "metadata": {
    "collapsed": false,
    "pycharm": {
     "name": "#%%\n"
    }
   }
  },
  {
   "cell_type": "code",
   "execution_count": 17,
   "outputs": [],
   "source": [],
   "metadata": {
    "collapsed": false,
    "pycharm": {
     "name": "#%%\n"
    }
   }
  },
  {
   "cell_type": "code",
   "execution_count": 17,
   "outputs": [],
   "source": [],
   "metadata": {
    "collapsed": false,
    "pycharm": {
     "name": "#%%\n"
    }
   }
  },
  {
   "cell_type": "code",
   "execution_count": 17,
   "outputs": [],
   "source": [],
   "metadata": {
    "collapsed": false,
    "pycharm": {
     "name": "#%%\n"
    }
   }
  },
  {
   "cell_type": "code",
   "execution_count": 17,
   "outputs": [],
   "source": [],
   "metadata": {
    "collapsed": false,
    "pycharm": {
     "name": "#%%\n"
    }
   }
  },
  {
   "cell_type": "code",
   "execution_count": 17,
   "outputs": [],
   "source": [],
   "metadata": {
    "collapsed": false,
    "pycharm": {
     "name": "#%%\n"
    }
   }
  },
  {
   "cell_type": "code",
   "execution_count": 17,
   "outputs": [],
   "source": [],
   "metadata": {
    "collapsed": false,
    "pycharm": {
     "name": "#%%\n"
    }
   }
  },
  {
   "cell_type": "code",
   "execution_count": 17,
   "outputs": [],
   "source": [],
   "metadata": {
    "collapsed": false,
    "pycharm": {
     "name": "#%%\n"
    }
   }
  },
  {
   "cell_type": "code",
   "execution_count": 17,
   "outputs": [],
   "source": [],
   "metadata": {
    "collapsed": false,
    "pycharm": {
     "name": "#%%\n"
    }
   }
  },
  {
   "cell_type": "code",
   "execution_count": 17,
   "outputs": [],
   "source": [],
   "metadata": {
    "collapsed": false,
    "pycharm": {
     "name": "#%%\n"
    }
   }
  },
  {
   "cell_type": "code",
   "execution_count": 17,
   "outputs": [],
   "source": [],
   "metadata": {
    "collapsed": false,
    "pycharm": {
     "name": "#%%\n"
    }
   }
  },
  {
   "cell_type": "code",
   "execution_count": 17,
   "outputs": [],
   "source": [],
   "metadata": {
    "collapsed": false,
    "pycharm": {
     "name": "#%%\n"
    }
   }
  },
  {
   "cell_type": "code",
   "execution_count": 17,
   "outputs": [],
   "source": [],
   "metadata": {
    "collapsed": false,
    "pycharm": {
     "name": "#%%\n"
    }
   }
  },
  {
   "cell_type": "code",
   "execution_count": 17,
   "outputs": [],
   "source": [],
   "metadata": {
    "collapsed": false,
    "pycharm": {
     "name": "#%%\n"
    }
   }
  },
  {
   "cell_type": "code",
   "execution_count": 17,
   "outputs": [],
   "source": [],
   "metadata": {
    "collapsed": false,
    "pycharm": {
     "name": "#%%\n"
    }
   }
  },
  {
   "cell_type": "code",
   "execution_count": 17,
   "outputs": [],
   "source": [],
   "metadata": {
    "collapsed": false,
    "pycharm": {
     "name": "#%%\n"
    }
   }
  },
  {
   "cell_type": "code",
   "execution_count": null,
   "outputs": [],
   "source": [
    "\n"
   ],
   "metadata": {
    "collapsed": false,
    "pycharm": {
     "name": "#%%\n"
    }
   }
  }
 ],
 "metadata": {
  "kernelspec": {
   "display_name": "Python 3",
   "language": "python",
   "name": "python3"
  },
  "language_info": {
   "codemirror_mode": {
    "name": "ipython",
    "version": 2
   },
   "file_extension": ".py",
   "mimetype": "text/x-python",
   "name": "python",
   "nbconvert_exporter": "python",
   "pygments_lexer": "ipython2",
   "version": "2.7.6"
  }
 },
 "nbformat": 4,
 "nbformat_minor": 0
}