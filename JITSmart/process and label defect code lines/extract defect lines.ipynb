{
 "cells": [
  {
   "cell_type": "code",
   "execution_count": 1,
   "metadata": {
    "collapsed": true
   },
   "outputs": [],
   "source": [
    "import pickle\n",
    "import pandas as pd\n",
    "import numpy as np\n",
    "import os\n",
    "import json\n",
    "from tqdm import tqdm\n",
    "\n"
   ]
  },
  {
   "cell_type": "markdown",
   "source": [
    "# <font color='red'>训练集缺陷代码行提取"
   ],
   "metadata": {
    "collapsed": false,
    "pycharm": {
     "name": "#%% md\n"
    }
   }
  },
  {
   "cell_type": "code",
   "execution_count": 2,
   "outputs": [
    {
     "name": "stdout",
     "output_type": "stream",
     "text": [
      "<class 'pandas.core.frame.DataFrame'>\n",
      "Int64Index: 1390 entries, 0 to 16065\n",
      "Data columns (total 25 columns):\n",
      " #   Column                      Non-Null Count  Dtype  \n",
      "---  ------                      --------------  -----  \n",
      " 0   project                     1390 non-null   object \n",
      " 1   parent_hashes               1390 non-null   object \n",
      " 2   commit_hash                 1390 non-null   object \n",
      " 3   author_name                 1390 non-null   object \n",
      " 4   author_email                1390 non-null   object \n",
      " 5   author_date                 1390 non-null   object \n",
      " 6   author_date_unix_timestamp  1390 non-null   object \n",
      " 7   commit_message              1390 non-null   object \n",
      " 8   la                          1390 non-null   object \n",
      " 9   ld                          1390 non-null   object \n",
      " 10  fileschanged                1390 non-null   object \n",
      " 11  nf                          1390 non-null   object \n",
      " 12  ns                          1390 non-null   object \n",
      " 13  nd                          1390 non-null   object \n",
      " 14  entropy                     1390 non-null   object \n",
      " 15  ndev                        1390 non-null   object \n",
      " 16  lt                          1390 non-null   object \n",
      " 17  nuc                         1390 non-null   object \n",
      " 18  age                         1390 non-null   object \n",
      " 19  exp                         1390 non-null   object \n",
      " 20  rexp                        1390 non-null   object \n",
      " 21  sexp                        1390 non-null   object \n",
      " 22  classification              1390 non-null   object \n",
      " 23  fix                         1390 non-null   object \n",
      " 24  is_buggy_commit             1390 non-null   float64\n",
      "dtypes: float64(1), object(24)\n",
      "memory usage: 282.3+ KB\n"
     ]
    }
   ],
   "source": [
    "train_df = pd.read_pickle('../../data/jitfine/features_train.pkl')\n",
    "# buggy_changes_with_buggy_line.json中知识对buggy commit的标注\n",
    "train_df = train_df[train_df['is_buggy_commit']==1]\n",
    "train_df.info()\n"
   ],
   "metadata": {
    "collapsed": false,
    "pycharm": {
     "name": "#%%\n"
    }
   }
  },
  {
   "cell_type": "code",
   "execution_count": 3,
   "outputs": [
    {
     "name": "stdout",
     "output_type": "stream",
     "text": [
      "26\n"
     ]
    },
    {
     "data": {
      "text/plain": "['ant-ivy',\n 'commons-math',\n 'opennlp',\n 'parquet-mr',\n 'archiva',\n 'deltaspike',\n 'systemml',\n 'commons-lang',\n 'commons-net',\n 'commons-collections',\n 'commons-beanutils',\n 'commons-codec',\n 'commons-compress',\n 'commons-configuration',\n 'commons-digester',\n 'commons-jcs',\n 'commons-io',\n 'commons-scxml',\n 'commons-validator',\n 'commons-vfs',\n 'giraph',\n 'jspwiki',\n 'eagle',\n 'commons-bcel',\n 'commons-dbcp',\n 'gora']"
     },
     "execution_count": 3,
     "metadata": {},
     "output_type": "execute_result"
    }
   ],
   "source": [
    "path = '../../JITFine/labels for each line/buggy_changes_with_buggy_line.json'\n",
    "data = open(path, encoding='utf-8')\n",
    "data = json.load(data)\n",
    "# data.keys()\n",
    "prj_list = list(data.keys())\n",
    "print(len(prj_list))\n",
    "prj_list"
   ],
   "metadata": {
    "collapsed": false,
    "pycharm": {
     "name": "#%%\n"
    }
   }
  },
  {
   "cell_type": "code",
   "execution_count": 4,
   "outputs": [
    {
     "name": "stdout",
     "output_type": "stream",
     "text": [
      "21\n"
     ]
    },
    {
     "data": {
      "text/plain": "['ant-ivy',\n 'commons-math',\n 'opennlp',\n 'parquet-mr',\n 'commons-lang',\n 'commons-net',\n 'commons-collections',\n 'commons-beanutils',\n 'commons-codec',\n 'commons-compress',\n 'commons-configuration',\n 'commons-digester',\n 'commons-jcs',\n 'commons-io',\n 'commons-scxml',\n 'commons-validator',\n 'commons-vfs',\n 'giraph',\n 'commons-bcel',\n 'commons-dbcp',\n 'gora']"
     },
     "execution_count": 4,
     "metadata": {},
     "output_type": "execute_result"
    }
   ],
   "source": [
    "not_use_prj = ['archiva', 'deltaspike', 'systemml', 'jspwiki',\n",
    "               'eagle']\n",
    "for k in not_use_prj:\n",
    "    del data[k]\n",
    "prj_list = list(data.keys())\n",
    "print(len(prj_list))\n",
    "prj_list"
   ],
   "metadata": {
    "collapsed": false,
    "pycharm": {
     "name": "#%%\n"
    }
   }
  },
  {
   "cell_type": "code",
   "execution_count": 5,
   "outputs": [
    {
     "name": "stderr",
     "output_type": "stream",
     "text": [
      "100%|██████████| 1390/1390 [00:00<00:00, 5842.99it/s]\n"
     ]
    }
   ],
   "source": [
    "commit_lines_info = []\n",
    "\n",
    "for i in tqdm(range(len(train_df))):\n",
    "    commit = train_df.iloc[i]\n",
    "    prj = commit['project']\n",
    "    # print(prj)\n",
    "    commit_hash = commit['commit_hash']\n",
    "\n",
    "\n",
    "    info = data[prj][commit_hash]['added_buggy_level']\n",
    "    modified_files = list(info.keys())\n",
    "\n",
    "\n",
    "\n",
    "    idx = 0\n",
    "    for file_name in modified_files:\n",
    "        file = info[file_name]\n",
    "\n",
    "        if 'added_buggy' in file.keys():\n",
    "            buggy_lines = file['added_buggy']\n",
    "\n",
    "            for line in buggy_lines:\n",
    "                if line=='':\n",
    "                    print('oh my god')\n",
    "                temp = [prj, file_name, 'added', commit_hash, idx, line, 1]\n",
    "                commit_lines_info.append(temp)\n",
    "                idx += 1\n",
    "\n",
    "\n",
    "        if 'added_clean' in file.keys():\n",
    "            clean_lines = file['added_clean']\n",
    "\n",
    "            for line in clean_lines:\n",
    "                if line=='':\n",
    "                    print('oh my god')\n",
    "                temp = [prj, file_name, 'added', commit_hash, idx, line, 0]\n",
    "                commit_lines_info.append(temp)\n",
    "                idx += 1\n",
    "\n",
    "        if 'deleted' in file.keys():\n",
    "            deleted_lines = file['deleted']\n",
    "\n",
    "            for line in deleted_lines:\n",
    "                if line=='':\n",
    "                    print('oh my god')\n",
    "                temp = [prj, file_name, 'deleted', commit_hash, idx, line, 0]\n",
    "                commit_lines_info.append(temp)\n",
    "                idx += 1\n"
   ],
   "metadata": {
    "collapsed": false,
    "pycharm": {
     "name": "#%%\n"
    }
   }
  },
  {
   "cell_type": "code",
   "execution_count": 5,
   "outputs": [],
   "source": [],
   "metadata": {
    "collapsed": false,
    "pycharm": {
     "name": "#%%\n"
    }
   }
  },
  {
   "cell_type": "code",
   "execution_count": 6,
   "outputs": [],
   "source": [
    "train_commit_lines_df = pd.DataFrame(commit_lines_info, columns=['project', 'file', 'change type', 'commit hash', 'idx', 'code line', 'label'])"
   ],
   "metadata": {
    "collapsed": false,
    "pycharm": {
     "name": "#%%\n"
    }
   }
  },
  {
   "cell_type": "code",
   "execution_count": 7,
   "outputs": [],
   "source": [
    "train_commit_lines_df.to_excel('./train_buggy_commit_lines_df.xlsx', index=False)"
   ],
   "metadata": {
    "collapsed": false,
    "pycharm": {
     "name": "#%%\n"
    }
   }
  },
  {
   "cell_type": "code",
   "execution_count": 8,
   "outputs": [],
   "source": [
    "train_commit_lines_df.to_pickle('./train_buggy_commit_lines_df.pkl')"
   ],
   "metadata": {
    "collapsed": false,
    "pycharm": {
     "name": "#%%\n"
    }
   }
  },
  {
   "cell_type": "code",
   "execution_count": 8,
   "outputs": [],
   "source": [],
   "metadata": {
    "collapsed": false,
    "pycharm": {
     "name": "#%%\n"
    }
   }
  },
  {
   "cell_type": "code",
   "execution_count": 9,
   "outputs": [],
   "source": [
    "# buggy_commit_lines_df = pd.read_pickle('./train_buggy_commit_lines_df.pkl')"
   ],
   "metadata": {
    "collapsed": false,
    "pycharm": {
     "name": "#%%\n"
    }
   }
  },
  {
   "cell_type": "code",
   "execution_count": 10,
   "outputs": [],
   "source": [
    "# buggy_commit_lines_df.info()"
   ],
   "metadata": {
    "collapsed": false,
    "pycharm": {
     "name": "#%%\n"
    }
   }
  },
  {
   "cell_type": "code",
   "execution_count": 10,
   "outputs": [],
   "source": [],
   "metadata": {
    "collapsed": false,
    "pycharm": {
     "name": "#%%\n"
    }
   }
  },
  {
   "cell_type": "code",
   "execution_count": 10,
   "outputs": [],
   "source": [],
   "metadata": {
    "collapsed": false,
    "pycharm": {
     "name": "#%%\n"
    }
   }
  },
  {
   "cell_type": "code",
   "execution_count": 10,
   "outputs": [],
   "source": [],
   "metadata": {
    "collapsed": false,
    "pycharm": {
     "name": "#%%\n"
    }
   }
  },
  {
   "cell_type": "code",
   "execution_count": 10,
   "outputs": [],
   "source": [],
   "metadata": {
    "collapsed": false,
    "pycharm": {
     "name": "#%%\n"
    }
   }
  },
  {
   "cell_type": "markdown",
   "source": [
    "# <font color='red'>验证集缺陷代码行提取"
   ],
   "metadata": {
    "collapsed": false
   }
  },
  {
   "cell_type": "code",
   "execution_count": 11,
   "outputs": [
    {
     "name": "stdout",
     "output_type": "stream",
     "text": [
      "<class 'pandas.core.frame.DataFrame'>\n",
      "Int64Index: 467 entries, 0 to 5361\n",
      "Data columns (total 25 columns):\n",
      " #   Column                      Non-Null Count  Dtype  \n",
      "---  ------                      --------------  -----  \n",
      " 0   project                     467 non-null    object \n",
      " 1   parent_hashes               467 non-null    object \n",
      " 2   commit_hash                 467 non-null    object \n",
      " 3   author_name                 467 non-null    object \n",
      " 4   author_email                467 non-null    object \n",
      " 5   author_date                 467 non-null    object \n",
      " 6   author_date_unix_timestamp  467 non-null    object \n",
      " 7   commit_message              467 non-null    object \n",
      " 8   la                          467 non-null    object \n",
      " 9   ld                          467 non-null    object \n",
      " 10  fileschanged                467 non-null    object \n",
      " 11  nf                          467 non-null    object \n",
      " 12  ns                          467 non-null    object \n",
      " 13  nd                          467 non-null    object \n",
      " 14  entropy                     467 non-null    object \n",
      " 15  ndev                        467 non-null    object \n",
      " 16  lt                          467 non-null    object \n",
      " 17  nuc                         467 non-null    object \n",
      " 18  age                         467 non-null    object \n",
      " 19  exp                         467 non-null    object \n",
      " 20  rexp                        467 non-null    object \n",
      " 21  sexp                        467 non-null    object \n",
      " 22  classification              467 non-null    object \n",
      " 23  fix                         467 non-null    object \n",
      " 24  is_buggy_commit             467 non-null    float64\n",
      "dtypes: float64(1), object(24)\n",
      "memory usage: 94.9+ KB\n"
     ]
    }
   ],
   "source": [
    "valid_df = pd.read_pickle('../../data/jitfine/features_valid.pkl')\n",
    "# buggy_changes_with_buggy_line.json中知识对buggy commit的标注\n",
    "valid_df = valid_df[valid_df['is_buggy_commit']==1]\n",
    "valid_df.info()\n"
   ],
   "metadata": {
    "collapsed": false,
    "pycharm": {
     "name": "#%%\n"
    }
   }
  },
  {
   "cell_type": "code",
   "execution_count": 12,
   "outputs": [
    {
     "name": "stdout",
     "output_type": "stream",
     "text": [
      "26\n"
     ]
    },
    {
     "data": {
      "text/plain": "['ant-ivy',\n 'commons-math',\n 'opennlp',\n 'parquet-mr',\n 'archiva',\n 'deltaspike',\n 'systemml',\n 'commons-lang',\n 'commons-net',\n 'commons-collections',\n 'commons-beanutils',\n 'commons-codec',\n 'commons-compress',\n 'commons-configuration',\n 'commons-digester',\n 'commons-jcs',\n 'commons-io',\n 'commons-scxml',\n 'commons-validator',\n 'commons-vfs',\n 'giraph',\n 'jspwiki',\n 'eagle',\n 'commons-bcel',\n 'commons-dbcp',\n 'gora']"
     },
     "execution_count": 12,
     "metadata": {},
     "output_type": "execute_result"
    }
   ],
   "source": [
    "path = '../../JITFine/labels for each line/buggy_changes_with_buggy_line.json'\n",
    "data = open(path, encoding='utf-8')\n",
    "data = json.load(data)\n",
    "# data.keys()\n",
    "prj_list = list(data.keys())\n",
    "print(len(prj_list))\n",
    "prj_list"
   ],
   "metadata": {
    "collapsed": false,
    "pycharm": {
     "name": "#%%\n"
    }
   }
  },
  {
   "cell_type": "code",
   "execution_count": 13,
   "outputs": [
    {
     "name": "stdout",
     "output_type": "stream",
     "text": [
      "21\n"
     ]
    },
    {
     "data": {
      "text/plain": "['ant-ivy',\n 'commons-math',\n 'opennlp',\n 'parquet-mr',\n 'commons-lang',\n 'commons-net',\n 'commons-collections',\n 'commons-beanutils',\n 'commons-codec',\n 'commons-compress',\n 'commons-configuration',\n 'commons-digester',\n 'commons-jcs',\n 'commons-io',\n 'commons-scxml',\n 'commons-validator',\n 'commons-vfs',\n 'giraph',\n 'commons-bcel',\n 'commons-dbcp',\n 'gora']"
     },
     "execution_count": 13,
     "metadata": {},
     "output_type": "execute_result"
    }
   ],
   "source": [
    "not_use_prj = ['archiva', 'deltaspike', 'systemml', 'jspwiki',\n",
    "               'eagle']\n",
    "for k in not_use_prj:\n",
    "    del data[k]\n",
    "prj_list = list(data.keys())\n",
    "print(len(prj_list))\n",
    "prj_list"
   ],
   "metadata": {
    "collapsed": false,
    "pycharm": {
     "name": "#%%\n"
    }
   }
  },
  {
   "cell_type": "code",
   "execution_count": 14,
   "outputs": [
    {
     "name": "stderr",
     "output_type": "stream",
     "text": [
      "100%|██████████| 467/467 [00:00<00:00, 8980.35it/s]\n"
     ]
    }
   ],
   "source": [
    "commit_lines_info = []\n",
    "\n",
    "for i in tqdm(range(len(valid_df))):\n",
    "    commit = valid_df.iloc[i]\n",
    "    prj = commit['project']\n",
    "    # print(prj)\n",
    "    commit_hash = commit['commit_hash']\n",
    "\n",
    "\n",
    "    info = data[prj][commit_hash]['added_buggy_level']\n",
    "    modified_files = list(info.keys())\n",
    "\n",
    "\n",
    "\n",
    "    idx = 0\n",
    "    for file_name in modified_files:\n",
    "        file = info[file_name]\n",
    "\n",
    "        if 'added_buggy' in file.keys():\n",
    "            buggy_lines = file['added_buggy']\n",
    "\n",
    "            for line in buggy_lines:\n",
    "                temp = [prj, file_name, 'added', commit_hash, idx, line, 1]\n",
    "                commit_lines_info.append(temp)\n",
    "                idx += 1\n",
    "\n",
    "\n",
    "        if 'added_clean' in file.keys():\n",
    "            clean_lines = file['added_clean']\n",
    "\n",
    "            for line in clean_lines:\n",
    "                temp = [prj, file_name, 'added', commit_hash, idx, line, 0]\n",
    "                commit_lines_info.append(temp)\n",
    "                idx += 1\n",
    "\n",
    "        if 'deleted' in file.keys():\n",
    "            deleted_lines = file['deleted']\n",
    "\n",
    "            for line in deleted_lines:\n",
    "                temp = [prj, file_name, 'deleted', commit_hash, idx, line, 0]\n",
    "                commit_lines_info.append(temp)\n",
    "                idx += 1\n"
   ],
   "metadata": {
    "collapsed": false,
    "pycharm": {
     "name": "#%%\n"
    }
   }
  },
  {
   "cell_type": "code",
   "execution_count": 14,
   "outputs": [],
   "source": [],
   "metadata": {
    "collapsed": false,
    "pycharm": {
     "name": "#%%\n"
    }
   }
  },
  {
   "cell_type": "code",
   "execution_count": 15,
   "outputs": [],
   "source": [
    "valid_commit_lines_df = pd.DataFrame(commit_lines_info, columns=['project', 'file', 'change type', 'commit hash', 'idx', 'code line', 'label'])\n",
    "valid_commit_lines_df.to_excel('./valid_buggy_commit_lines_df.xlsx', index=False)\n"
   ],
   "metadata": {
    "collapsed": false,
    "pycharm": {
     "name": "#%%\n"
    }
   }
  },
  {
   "cell_type": "code",
   "execution_count": 16,
   "outputs": [],
   "source": [
    "valid_commit_lines_df.to_pickle('./valid_buggy_commit_lines_df.pkl')\n"
   ],
   "metadata": {
    "collapsed": false,
    "pycharm": {
     "name": "#%%\n"
    }
   }
  },
  {
   "cell_type": "code",
   "execution_count": 16,
   "outputs": [],
   "source": [],
   "metadata": {
    "collapsed": false,
    "pycharm": {
     "name": "#%%\n"
    }
   }
  },
  {
   "cell_type": "code",
   "execution_count": 16,
   "outputs": [],
   "source": [],
   "metadata": {
    "collapsed": false,
    "pycharm": {
     "name": "#%%\n"
    }
   }
  },
  {
   "cell_type": "code",
   "execution_count": 16,
   "outputs": [],
   "source": [],
   "metadata": {
    "collapsed": false,
    "pycharm": {
     "name": "#%%\n"
    }
   }
  },
  {
   "cell_type": "code",
   "execution_count": 16,
   "outputs": [],
   "source": [],
   "metadata": {
    "collapsed": false,
    "pycharm": {
     "name": "#%%\n"
    }
   }
  },
  {
   "cell_type": "markdown",
   "source": [
    "# <font color='red'>测试集缺陷代码行提取"
   ],
   "metadata": {
    "collapsed": false
   }
  },
  {
   "cell_type": "code",
   "execution_count": 17,
   "outputs": [
    {
     "name": "stdout",
     "output_type": "stream",
     "text": [
      "<class 'pandas.core.frame.DataFrame'>\n",
      "Int64Index: 475 entries, 0 to 5376\n",
      "Data columns (total 25 columns):\n",
      " #   Column                      Non-Null Count  Dtype  \n",
      "---  ------                      --------------  -----  \n",
      " 0   project                     475 non-null    object \n",
      " 1   parent_hashes               475 non-null    object \n",
      " 2   commit_hash                 475 non-null    object \n",
      " 3   author_name                 475 non-null    object \n",
      " 4   author_email                475 non-null    object \n",
      " 5   author_date                 475 non-null    object \n",
      " 6   author_date_unix_timestamp  475 non-null    object \n",
      " 7   commit_message              475 non-null    object \n",
      " 8   la                          475 non-null    object \n",
      " 9   ld                          475 non-null    object \n",
      " 10  fileschanged                475 non-null    object \n",
      " 11  nf                          475 non-null    object \n",
      " 12  ns                          475 non-null    object \n",
      " 13  nd                          475 non-null    object \n",
      " 14  entropy                     475 non-null    object \n",
      " 15  ndev                        475 non-null    object \n",
      " 16  lt                          475 non-null    object \n",
      " 17  nuc                         475 non-null    object \n",
      " 18  age                         475 non-null    object \n",
      " 19  exp                         475 non-null    object \n",
      " 20  rexp                        475 non-null    object \n",
      " 21  sexp                        475 non-null    object \n",
      " 22  classification              475 non-null    object \n",
      " 23  fix                         475 non-null    object \n",
      " 24  is_buggy_commit             475 non-null    float64\n",
      "dtypes: float64(1), object(24)\n",
      "memory usage: 96.5+ KB\n"
     ]
    }
   ],
   "source": [
    "test_df = pd.read_pickle('../../data/jitfine/features_test.pkl')\n",
    "# buggy_changes_with_buggy_line.json中知识对buggy commit的标注\n",
    "test_df = test_df[test_df['is_buggy_commit']==1]\n",
    "test_df.info()\n"
   ],
   "metadata": {
    "collapsed": false,
    "pycharm": {
     "name": "#%%\n"
    }
   }
  },
  {
   "cell_type": "code",
   "execution_count": 18,
   "outputs": [
    {
     "name": "stdout",
     "output_type": "stream",
     "text": [
      "26\n"
     ]
    },
    {
     "data": {
      "text/plain": "['ant-ivy',\n 'commons-math',\n 'opennlp',\n 'parquet-mr',\n 'archiva',\n 'deltaspike',\n 'systemml',\n 'commons-lang',\n 'commons-net',\n 'commons-collections',\n 'commons-beanutils',\n 'commons-codec',\n 'commons-compress',\n 'commons-configuration',\n 'commons-digester',\n 'commons-jcs',\n 'commons-io',\n 'commons-scxml',\n 'commons-validator',\n 'commons-vfs',\n 'giraph',\n 'jspwiki',\n 'eagle',\n 'commons-bcel',\n 'commons-dbcp',\n 'gora']"
     },
     "execution_count": 18,
     "metadata": {},
     "output_type": "execute_result"
    }
   ],
   "source": [
    "path = '../../JITFine/labels for each line/buggy_changes_with_buggy_line.json'\n",
    "data = open(path, encoding='utf-8')\n",
    "data = json.load(data)\n",
    "# data.keys()\n",
    "prj_list = list(data.keys())\n",
    "print(len(prj_list))\n",
    "prj_list"
   ],
   "metadata": {
    "collapsed": false,
    "pycharm": {
     "name": "#%%\n"
    }
   }
  },
  {
   "cell_type": "code",
   "execution_count": 19,
   "outputs": [
    {
     "name": "stdout",
     "output_type": "stream",
     "text": [
      "21\n"
     ]
    },
    {
     "data": {
      "text/plain": "['ant-ivy',\n 'commons-math',\n 'opennlp',\n 'parquet-mr',\n 'commons-lang',\n 'commons-net',\n 'commons-collections',\n 'commons-beanutils',\n 'commons-codec',\n 'commons-compress',\n 'commons-configuration',\n 'commons-digester',\n 'commons-jcs',\n 'commons-io',\n 'commons-scxml',\n 'commons-validator',\n 'commons-vfs',\n 'giraph',\n 'commons-bcel',\n 'commons-dbcp',\n 'gora']"
     },
     "execution_count": 19,
     "metadata": {},
     "output_type": "execute_result"
    }
   ],
   "source": [
    "not_use_prj = ['archiva', 'deltaspike', 'systemml', 'jspwiki',\n",
    "               'eagle']\n",
    "for k in not_use_prj:\n",
    "    del data[k]\n",
    "prj_list = list(data.keys())\n",
    "print(len(prj_list))\n",
    "prj_list"
   ],
   "metadata": {
    "collapsed": false,
    "pycharm": {
     "name": "#%%\n"
    }
   }
  },
  {
   "cell_type": "code",
   "execution_count": 20,
   "outputs": [
    {
     "name": "stderr",
     "output_type": "stream",
     "text": [
      "100%|██████████| 475/475 [00:00<00:00, 9693.87it/s]\n"
     ]
    }
   ],
   "source": [
    "commit_lines_info = []\n",
    "\n",
    "for i in tqdm(range(len(test_df))):\n",
    "    commit = test_df.iloc[i]\n",
    "    prj = commit['project']\n",
    "    # print(prj)\n",
    "    commit_hash = commit['commit_hash']\n",
    "\n",
    "\n",
    "    info = data[prj][commit_hash]['added_buggy_level']\n",
    "    modified_files = list(info.keys())\n",
    "\n",
    "\n",
    "    idx = 0\n",
    "    for file_name in modified_files:\n",
    "        file = info[file_name]\n",
    "\n",
    "        if 'added_buggy' in file.keys():\n",
    "            buggy_lines = file['added_buggy']\n",
    "\n",
    "            for line in buggy_lines:\n",
    "                temp = [prj, file_name, 'added', commit_hash, idx, line, 1]\n",
    "                commit_lines_info.append(temp)\n",
    "                idx += 1\n",
    "\n",
    "\n",
    "        if 'added_clean' in file.keys():\n",
    "            clean_lines = file['added_clean']\n",
    "\n",
    "            for line in clean_lines:\n",
    "                temp = [prj, file_name, 'added', commit_hash, idx, line, 0]\n",
    "                commit_lines_info.append(temp)\n",
    "                idx += 1\n",
    "\n",
    "        if 'deleted' in file.keys():\n",
    "            deleted_lines = file['deleted']\n",
    "\n",
    "            for line in deleted_lines:\n",
    "                temp = [prj, file_name, 'deleted', commit_hash, idx, line, 0]\n",
    "                commit_lines_info.append(temp)\n",
    "                idx += 1\n"
   ],
   "metadata": {
    "collapsed": false,
    "pycharm": {
     "name": "#%%\n"
    }
   }
  },
  {
   "cell_type": "code",
   "execution_count": 20,
   "outputs": [],
   "source": [],
   "metadata": {
    "collapsed": false,
    "pycharm": {
     "name": "#%%\n"
    }
   }
  },
  {
   "cell_type": "code",
   "execution_count": 21,
   "outputs": [],
   "source": [
    "test_commit_lines_df = pd.DataFrame(commit_lines_info, columns=['project', 'file', 'change type', 'commit hash', 'idx', 'code line', 'label'])\n",
    "test_commit_lines_df.to_excel('./test_buggy_commit_lines_df.xlsx', index=False)\n"
   ],
   "metadata": {
    "collapsed": false,
    "pycharm": {
     "name": "#%%\n"
    }
   }
  },
  {
   "cell_type": "code",
   "execution_count": 22,
   "outputs": [],
   "source": [
    "test_commit_lines_df.to_pickle('./test_buggy_commit_lines_df.pkl')\n"
   ],
   "metadata": {
    "collapsed": false,
    "pycharm": {
     "name": "#%%\n"
    }
   }
  },
  {
   "cell_type": "code",
   "execution_count": null,
   "outputs": [],
   "source": [
    "\n"
   ],
   "metadata": {
    "collapsed": false,
    "pycharm": {
     "name": "#%%\n"
    }
   }
  }
 ],
 "metadata": {
  "kernelspec": {
   "display_name": "Python 3",
   "language": "python",
   "name": "python3"
  },
  "language_info": {
   "codemirror_mode": {
    "name": "ipython",
    "version": 2
   },
   "file_extension": ".py",
   "mimetype": "text/x-python",
   "name": "python",
   "nbconvert_exporter": "python",
   "pygments_lexer": "ipython2",
   "version": "2.7.6"
  }
 },
 "nbformat": 4,
 "nbformat_minor": 0
}